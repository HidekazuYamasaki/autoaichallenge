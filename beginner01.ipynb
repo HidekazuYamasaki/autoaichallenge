{
  "cells": [
    {
      "cell_type": "markdown",
      "metadata": {
        "id": "rX8mhOLljYeM"
      },
      "source": [
        "##### Copyright 2019 The TensorFlow Authors."
      ]
    },
    {
      "cell_type": "code",
      "execution_count": 57,
      "metadata": {
        "cellView": "form",
        "execution": {
          "iopub.execute_input": "2021-02-12T23:08:31.487948Z",
          "iopub.status.busy": "2021-02-12T23:08:31.487306Z",
          "iopub.status.idle": "2021-02-12T23:08:31.489229Z",
          "shell.execute_reply": "2021-02-12T23:08:31.489629Z"
        },
        "id": "BZSlp3DAjdYf"
      },
      "outputs": [],
      "source": [
        "#@title Licensed under the Apache License, Version 2.0 (the \"License\");\n",
        "# you may not use this file except in compliance with the License.\n",
        "# You may obtain a copy of the License at\n",
        "#\n",
        "# https://www.apache.org/licenses/LICENSE-2.0\n",
        "#\n",
        "# Unless required by applicable law or agreed to in writing, software\n",
        "# distributed under the License is distributed on an \"AS IS\" BASIS,\n",
        "# WITHOUT WARRANTIES OR CONDITIONS OF ANY KIND, either express or implied.\n",
        "# See the License for the specific language governing permissions and\n",
        "# limitations under the License."
      ]
    },
    {
      "cell_type": "markdown",
      "metadata": {
        "id": "3wF5wszaj97Y"
      },
      "source": [
        "# 初心者のための TensorFlow 2.0 入門"
      ]
    },
    {
      "cell_type": "markdown",
      "metadata": {
        "id": "DUNzJc4jTj6G"
      },
      "source": [
        "<table class=\"tfo-notebook-buttons\" align=\"left\">\n",
        "  <td>\n",
        "    <a target=\"_blank\" href=\"https://www.tensorflow.org/tutorials/quickstart/beginner\"><img src=\"https://www.tensorflow.org/images/tf_logo_32px.png\" />View on TensorFlow.org</a>\n",
        "  </td>\n",
        "  <td>\n",
        "    <a target=\"_blank\" href=\"https://colab.research.google.com/github/tensorflow/docs-l10n/blob/master/site/ja/tutorials/quickstart/beginner.ipynb\"><img src=\"https://www.tensorflow.org/images/colab_logo_32px.png\" />Run in Google Colab</a>\n",
        "  </td>\n",
        "  <td>\n",
        "    <a target=\"_blank\" href=\"https://github.com/tensorflow/docs-l10n/blob/master/site/ja/tutorials/quickstart/beginner.ipynb\"><img src=\"https://www.tensorflow.org/images/GitHub-Mark-32px.png\" />View source on GitHub</a>\n",
        "  </td>\n",
        "  <td>\n",
        "    <a href=\"https://storage.googleapis.com/tensorflow_docs/docs-l10n/site/ja/tutorials/quickstart/beginner.ipynb\"><img src=\"https://www.tensorflow.org/images/download_logo_32px.png\" />Download notebook</a>\n",
        "  </td>\n",
        "</table>"
      ]
    },
    {
      "cell_type": "markdown",
      "metadata": {
        "id": "YRXLphinx2fF"
      },
      "source": [
        "Note: これらのドキュメントは私たちTensorFlowコミュニティが翻訳したものです。コミュニティによる 翻訳は**ベストエフォート**であるため、この翻訳が正確であることや[英語の公式ドキュメント](https://www.tensorflow.org/?hl=en)の 最新の状態を反映したものであることを保証することはできません。 この翻訳の品質を向上させるためのご意見をお持ちの方は、GitHubリポジトリ[tensorflow/docs-l10n](https://github.com/tensorflow/docs-l10n)にプルリクエストをお送りください。 コミュニティによる翻訳やレビューに参加していただける方は、 [docs-ja@tensorflow.org メーリングリスト](https://groups.google.com/a/tensorflow.org/forum/#!forum/docs-ja)にご連絡ください。"
      ]
    },
    {
      "cell_type": "markdown",
      "metadata": {
        "id": "GgJT2G3OwwlT"
      },
      "source": [
        "この短いイントロダクションでは [Keras](https://www.tensorflow.org/guide/keras/overview) を使って下記のことを行います。\n",
        "\n",
        "1. 画像を分類するニューラルネットワークを構築する\n",
        "2. このニューラルネットワークを訓練する\n",
        "3. そして最後に、モデルの正解率を評価する"
      ]
    },
    {
      "cell_type": "markdown",
      "metadata": {
        "id": "hiH7AC-NTniF"
      },
      "source": [
        "このファイルは [Google Colaboratory](https://colab.research.google.com/notebooks/welcome.ipynb) の notebook ファイルです。 Python プログラムはブラウザ上で直接実行されます。TensorFlow を学んだり使ったりするには最良の方法です。Google Colab のnotebook の実行方法は以下のとおりです。\n",
        "\n",
        "1. Pythonランタイムへの接続：メニューバーの右上で「接続」を選択します。\n",
        "2. ノートブックのコードセルをすべて実行：「ランタイム」メニューから「すべてのセルを実行」を選択します。"
      ]
    },
    {
      "cell_type": "markdown",
      "metadata": {
        "id": "kCJXrk_vwwlV"
      },
      "source": [
        "##1. ライブラリのロード\n",
        "\n",
        "TensorFlow 2 のパッケージをダウンロードしてインストールします。プログラムに TensorFlow をインポートします。\n",
        "\n",
        "Note: TensorFlow 2 パッケージをインストールするためには `pip` をアップグレードしてください。詳細は [インストール](https://www.tensorflow.org/install)を参照ください。"
      ]
    },
    {
      "cell_type": "code",
      "execution_count": 58,
      "metadata": {
        "execution": {
          "iopub.execute_input": "2021-02-12T23:08:31.498339Z",
          "iopub.status.busy": "2021-02-12T23:08:31.497704Z",
          "iopub.status.idle": "2021-02-12T23:08:37.880737Z",
          "shell.execute_reply": "2021-02-12T23:08:37.881303Z"
        },
        "id": "0trJmd6DjqBZ"
      },
      "outputs": [],
      "source": [
        "import tensorflow as tf"
      ]
    },
    {
      "cell_type": "markdown",
      "metadata": {
        "id": "7NAbSZiaoJ4z"
      },
      "source": [
        "##2. データセットの読み込み\n",
        "\n",
        "[MNIST データセット](http://yann.lecun.com/exdb/mnist/)をロードして準備します。"
      ]
    },
    {
      "cell_type": "code",
      "execution_count": 59,
      "metadata": {
        "execution": {
          "iopub.execute_input": "2021-02-12T23:08:37.886265Z",
          "iopub.status.busy": "2021-02-12T23:08:37.885557Z",
          "iopub.status.idle": "2021-02-12T23:08:38.333605Z",
          "shell.execute_reply": "2021-02-12T23:08:38.332975Z"
        },
        "id": "7FP5258xjs-v"
      },
      "outputs": [],
      "source": [
        "mnist = tf.keras.datasets.mnist\n",
        "\n",
        "(x_train, y_train), (x_test, y_test) = mnist.load_data()\n",
        "#x_train, x_test = x_train / 255.0, x_test / 255.0"
      ]
    },
    {
      "cell_type": "code",
      "source": [
        "print(\"x_train : \", x_train.shape)\n",
        "print(\"y_train : \", y_train.shape)\n",
        "print(\"x_test : \", x_test.shape)\n",
        "print(\"y_test : \", y_test.shape)"
      ],
      "metadata": {
        "colab": {
          "base_uri": "https://localhost:8080/"
        },
        "id": "zXBZsyUYhKJ1",
        "outputId": "23cde212-8cc7-4f54-f6a6-36ad457eeb83"
      },
      "execution_count": 60,
      "outputs": [
        {
          "output_type": "stream",
          "name": "stdout",
          "text": [
            "x_train :  (60000, 28, 28)\n",
            "y_train :  (60000,)\n",
            "x_test :  (10000, 28, 28)\n",
            "y_test :  (10000,)\n"
          ]
        }
      ]
    },
    {
      "cell_type": "markdown",
      "source": [
        "matoplotlibライブラリをインポートして、X(白黒画像)とy(ラベル)を見てみましょう．"
      ],
      "metadata": {
        "id": "ql6-xHtlhE8T"
      }
    },
    {
      "cell_type": "code",
      "source": [
        "import matplotlib\n",
        "import matplotlib.pyplot as plt"
      ],
      "metadata": {
        "id": "LW-InfJFh5Ef"
      },
      "execution_count": 61,
      "outputs": []
    },
    {
      "cell_type": "code",
      "source": [
        " for i in [0,10,100]:\n",
        "    print(\"y_train\", \"(i=\"+str(i)+\"): \", y_train[i])\n",
        "    print(\"x_train\", \"(i=\"+str(i)+\"): \")    \n",
        "    plt.imshow(x_train[i], cmap='gray')\n",
        "    plt.show()"
      ],
      "metadata": {
        "colab": {
          "base_uri": "https://localhost:8080/",
          "height": 865
        },
        "id": "ZNR7aTxMhexc",
        "outputId": "ec7e5b87-5af5-4095-e554-28cae26a1388"
      },
      "execution_count": 62,
      "outputs": [
        {
          "output_type": "stream",
          "name": "stdout",
          "text": [
            "y_train (i=0):  5\n",
            "x_train (i=0): \n"
          ]
        },
        {
          "output_type": "display_data",
          "data": {
            "text/plain": [
              "<Figure size 432x288 with 1 Axes>"
            ],
            "image/png": "[encoded data removed]"
          },
          "metadata": {
            "needs_background": "light"
          }
        },
        {
          "output_type": "stream",
          "name": "stdout",
          "text": [
            "y_train (i=10):  3\n",
            "x_train (i=10): \n"
          ]
        },
        {
          "output_type": "display_data",
          "data": {
            "text/plain": [
              "<Figure size 432x288 with 1 Axes>"
            ],
            "image/png": "[encoded data removed]"
          },
          "metadata": {
            "needs_background": "light"
          }
        },
        {
          "output_type": "stream",
          "name": "stdout",
          "text": [
            "y_train (i=100):  5\n",
            "x_train (i=100): \n"
          ]
        },
        {
          "output_type": "display_data",
          "data": {
            "text/plain": [
              "<Figure size 432x288 with 1 Axes>"
            ],
            "image/png": "[encoded data removed]"
          },
          "metadata": {
            "needs_background": "light"
          }
        }
      ]
    },
    {
      "cell_type": "markdown",
      "source": [
        "##3. 画像データの正規化\n",
        "\n",
        "一般に，「(扱う)データの値を，何らかの基準に基づいて整える」処理を正規化(Normalization, Scalijng)といいます．代表的な正規化手法としては以下2つが挙げられます．\n",
        "\n",
        "1. min-max normalization\n",
        "\n",
        "  最小値が0, 最大値が1になるように変換する\n",
        "\n",
        "  x_new = (x - x_min) / (x_max - x_min)\n",
        "\n",
        "2. z-score normalization\n",
        "\n",
        "  平均が0, 標準偏差が1になるよう変換する\n",
        "\n",
        "  x_new = (x - x_mean) / x_std\n",
        "\n",
        "MNIST Datasetに含まれる画像データでは，各画素の値が「0以上255以下」の8bit整数で表現されています．今回は，これにmin-max normalizationを適用することで，値の範囲を「0~1」に限定させます．"
      ],
      "metadata": {
        "id": "WtRcHX_iisTd"
      }
    },
    {
      "cell_type": "code",
      "source": [
        "print(\"x_train min\", x_train.min())\n",
        "print(\"x_train max\", x_train.max())"
      ],
      "metadata": {
        "colab": {
          "base_uri": "https://localhost:8080/"
        },
        "id": "RyVe5ZIViRlE",
        "outputId": "04ef7349-eb9f-45ea-dd8e-04fa363d630e"
      },
      "execution_count": 63,
      "outputs": [
        {
          "output_type": "stream",
          "name": "stdout",
          "text": [
            "x_train min 0\n",
            "x_train max 255\n"
          ]
        }
      ]
    },
    {
      "cell_type": "code",
      "source": [
        "# Min-Max Normalization\n",
        "x_train, x_test = x_train / 255.0, x_test / 255.0"
      ],
      "metadata": {
        "id": "hhzGEyY4jfgF"
      },
      "execution_count": 64,
      "outputs": []
    },
    {
      "cell_type": "code",
      "source": [
        "print(\"x_train min\", x_train.min())\n",
        "print(\"x_train max\", x_train.max())"
      ],
      "metadata": {
        "colab": {
          "base_uri": "https://localhost:8080/"
        },
        "id": "qeIfpajDkT65",
        "outputId": "6b9aa561-0c81-419f-e618-4947ab9f8bff"
      },
      "execution_count": 65,
      "outputs": [
        {
          "output_type": "stream",
          "name": "stdout",
          "text": [
            "x_train min 0.0\n",
            "x_train max 1.0\n"
          ]
        }
      ]
    },
    {
      "cell_type": "markdown",
      "metadata": {
        "id": "BPZ68wASog_I"
      },
      "source": [
        "##4. モデルの作成\n",
        "\n",
        "層を積み重ねて`tf.keras.Sequential`モデルを構築します。訓練のためにオプティマイザと損失関数を選びます。"
      ]
    },
    {
      "cell_type": "code",
      "execution_count": 66,
      "metadata": {
        "execution": {
          "iopub.execute_input": "2021-02-12T23:08:38.339162Z",
          "iopub.status.busy": "2021-02-12T23:08:38.338424Z",
          "iopub.status.idle": "2021-02-12T23:08:40.116054Z",
          "shell.execute_reply": "2021-02-12T23:08:40.115415Z"
        },
        "id": "h3IKyzTCDNGo"
      },
      "outputs": [],
      "source": [
        "model = tf.keras.models.Sequential([\n",
        "  # (None, 28, 28) -> (None, 784)\n",
        "  tf.keras.layers.Flatten(input_shape=(28, 28)),\n",
        "  # Layer1: Linear mapping: (None, 784) -> (None, 128)\n",
        "  # Activation function: ReLU\n",
        "  tf.keras.layers.Dense(128, activation='relu'),\n",
        "  # Layer2: Linear mapping: (None, 128) -> (None, 128)\n",
        "  tf.keras.layers.Dropout(0.2),\n",
        "  # Layer3: Linear mapping: (None, 128) -> (None, 10)\n",
        "  tf.keras.layers.Dense(10)\n",
        "])"
      ]
    },
    {
      "cell_type": "code",
      "source": [
        "# View model architecture\n",
        "model.summary()"
      ],
      "metadata": {
        "colab": {
          "base_uri": "https://localhost:8080/"
        },
        "id": "wUVdTM9FwvPP",
        "outputId": "89b7252d-82cb-4d2f-a88e-804e8744daf2"
      },
      "execution_count": 67,
      "outputs": [
        {
          "output_type": "stream",
          "name": "stdout",
          "text": [
            "Model: \"sequential_4\"\n",
            "_________________________________________________________________\n",
            " Layer (type)                Output Shape              Param #   \n",
            "=================================================================\n",
            " flatten_2 (Flatten)         (None, 784)               0         \n",
            "                                                                 \n",
            " dense_4 (Dense)             (None, 128)               100480    \n",
            "                                                                 \n",
            " dropout_2 (Dropout)         (None, 128)               0         \n",
            "                                                                 \n",
            " dense_5 (Dense)             (None, 10)                1290      \n",
            "                                                                 \n",
            "=================================================================\n",
            "Total params: 101,770\n",
            "Trainable params: 101,770\n",
            "Non-trainable params: 0\n",
            "_________________________________________________________________\n"
          ]
        }
      ]
    },
    {
      "cell_type": "markdown",
      "metadata": {
        "id": "ix4mEL65on-w"
      },
      "source": [
        "モデルはそれぞれの標本について、クラスごとに\"[ロジット](https://developers.google.com/machine-learning/glossary#logits)\"や\"[対数オッズ比](https://developers.google.com/machine-learning/glossary#log-odds)\"と呼ばれるスコアを算出します。\n",
        "\n",
        "※ロジット：\n",
        "\n",
        "分類モデルが生成する生の（正規化されていない）予測のベクトル。これは通常、正規化関数に渡されます。モデルが多クラス分類 問題を解いている場合、ロジットは通常、softmax関数への入力になり ます。次に、softmax関数は、可能なクラスごとに1つの値を持つ（正規化された）確率のベクトルを生成します。\n",
        "\n",
        "以下は１番目のデータをモデルに入力した場合の０～９の予測ベクトル"
      ]
    },
    {
      "cell_type": "code",
      "execution_count": 68,
      "metadata": {
        "execution": {
          "iopub.execute_input": "2021-02-12T23:08:40.122756Z",
          "iopub.status.busy": "2021-02-12T23:08:40.122073Z",
          "iopub.status.idle": "2021-02-12T23:08:40.561553Z",
          "shell.execute_reply": "2021-02-12T23:08:40.562018Z"
        },
        "id": "F7dTAzgHDUh7",
        "colab": {
          "base_uri": "https://localhost:8080/"
        },
        "outputId": "74e79a69-9958-462e-e5a6-b01e6be7f18b"
      },
      "outputs": [
        {
          "output_type": "execute_result",
          "data": {
            "text/plain": [
              "array([[-0.46450573,  0.48142344,  0.32512197,  0.52060807, -0.7118379 ,\n",
              "         0.711878  ,  0.41612422, -0.1082752 ,  0.08021271, -0.32388636]],\n",
              "      dtype=float32)"
            ]
          },
          "metadata": {},
          "execution_count": 68
        }
      ],
      "source": [
        "predictions = model(x_train[:1]).numpy()\n",
        "predictions"
      ]
    },
    {
      "cell_type": "markdown",
      "metadata": {
        "id": "T4JfEh7kvx6m"
      },
      "source": [
        "`tf.nn.softmax` 関数はクラスごとにこれらのロジットを \"確率\" に変換します。\n",
        "\n",
        "確率は全部足すと1.0になります。"
      ]
    },
    {
      "cell_type": "code",
      "execution_count": 69,
      "metadata": {
        "execution": {
          "iopub.execute_input": "2021-02-12T23:08:40.566559Z",
          "iopub.status.busy": "2021-02-12T23:08:40.565838Z",
          "iopub.status.idle": "2021-02-12T23:08:40.569649Z",
          "shell.execute_reply": "2021-02-12T23:08:40.570062Z"
        },
        "id": "0egSSdWsh5cp",
        "colab": {
          "base_uri": "https://localhost:8080/"
        },
        "outputId": "046d3443-1eab-4e5c-fad2-b0af4d074fa9"
      },
      "outputs": [
        {
          "output_type": "execute_result",
          "data": {
            "text/plain": [
              "array([[0.05209725, 0.1341611 , 0.11474817, 0.13952251, 0.04068177,\n",
              "        0.16893193, 0.12568039, 0.07439157, 0.08982205, 0.05996323]],\n",
              "      dtype=float32)"
            ]
          },
          "metadata": {},
          "execution_count": 69
        }
      ],
      "source": [
        "tf.nn.softmax(predictions).numpy()"
      ]
    },
    {
      "cell_type": "markdown",
      "metadata": {
        "id": "a87oUHS3h5cs"
      },
      "source": [
        "Note: `tf.nn.softmax` をネットワークの最終レイヤーに対する活性化関数として組み込むことは可能です。これはモデルの出力に対して直接的に解釈できるようにする一方で、ソフトマックスの出力を用いる場合、すべてのモデルに対して正確で数値的安定に損失を計算することが不可能なため、このアプローチは推奨されません。"
      ]
    },
    {
      "cell_type": "markdown",
      "metadata": {
        "id": "dhVMTSPXh5cs"
      },
      "source": [
        "`losses.SparseCategoricalCrossentropy` 損失関数は、ロジットと `True` の インデックスに関するベクトルを入力にとり、それぞれの標本についてクラスごとに損失のスカラーを返します。"
      ]
    },
    {
      "cell_type": "code",
      "execution_count": 70,
      "metadata": {
        "execution": {
          "iopub.execute_input": "2021-02-12T23:08:40.574542Z",
          "iopub.status.busy": "2021-02-12T23:08:40.573854Z",
          "iopub.status.idle": "2021-02-12T23:08:40.576184Z",
          "shell.execute_reply": "2021-02-12T23:08:40.575658Z"
        },
        "id": "fAtJnprVh5cs"
      },
      "outputs": [],
      "source": [
        "loss_fn = tf.keras.losses.SparseCategoricalCrossentropy(from_logits=True)"
      ]
    },
    {
      "cell_type": "markdown",
      "metadata": {
        "id": "ueWehEBMh5cv"
      },
      "source": [
        "この損失は、クラスが正しい確率の対数をとって符号を反転させたものです。この値はモデルがこのクラスが正しいと確信しているときに 0 になります。\n",
        "\n",
        "この訓練されていないモデルはランダムに近い確率 (それぞれのクラスについて 1/10) を出力します、最初の損失は `-tf.log(1/10) ~= 2.3` に近い値になるはずです。"
      ]
    },
    {
      "cell_type": "code",
      "execution_count": 71,
      "metadata": {
        "execution": {
          "iopub.execute_input": "2021-02-12T23:08:40.581291Z",
          "iopub.status.busy": "2021-02-12T23:08:40.580579Z",
          "iopub.status.idle": "2021-02-12T23:08:40.586129Z",
          "shell.execute_reply": "2021-02-12T23:08:40.586585Z"
        },
        "id": "G88FT6kVh5cw",
        "colab": {
          "base_uri": "https://localhost:8080/"
        },
        "outputId": "7b611141-1983-4fad-85c7-73de4b1924d1"
      },
      "outputs": [
        {
          "output_type": "execute_result",
          "data": {
            "text/plain": [
              "1.7782594"
            ]
          },
          "metadata": {},
          "execution_count": 71
        }
      ],
      "source": [
        "loss_fn(y_train[:1], predictions).numpy()"
      ]
    },
    {
      "cell_type": "code",
      "execution_count": 72,
      "metadata": {
        "execution": {
          "iopub.execute_input": "2021-02-12T23:08:40.595536Z",
          "iopub.status.busy": "2021-02-12T23:08:40.594809Z",
          "iopub.status.idle": "2021-02-12T23:08:40.611518Z",
          "shell.execute_reply": "2021-02-12T23:08:40.610932Z"
        },
        "id": "JlD67Sv6h5cy"
      },
      "outputs": [],
      "source": [
        "model.compile(optimizer='adam',\n",
        "              loss=loss_fn,\n",
        "              metrics=['accuracy'])"
      ]
    },
    {
      "cell_type": "markdown",
      "metadata": {
        "id": "4E2xPavXh5c1"
      },
      "source": [
        "##5. モデルの学習\n",
        "\n",
        "`Model.fit` メソッドは損失を最小化するようにモデルのパラメータを調整します。\n",
        "\n",
        "バッチサイズはデフォルト＝32\n",
        "\n",
        "＊バッチサイズとは？\n",
        "\n",
        "ディープラーニングでは、損失関数が最小となる最適なパラメータ（重み、バイアス）を求めますが、全ての訓練データに対する損失関数を一度に計算するには時間がかかります。そのため、全ての訓練データの中からサブセットととして一部を選び出し全体の近似とします。\n",
        "この幾つかに分けたぞれぞれのサブセットに含まれるデータの数をバッチサイズと呼びます。例えば、1,000件のデータセットを200件ずつのサブセットに分ける場合、バッチサイズは200となります。\n",
        "\n",
        "＊エポック数とは？\n",
        "\n",
        "学習において訓練データをすべて使い切った時の回数。以下の場合では、MNIST：60000データを5回学習することになります。"
      ]
    },
    {
      "cell_type": "code",
      "execution_count": 73,
      "metadata": {
        "execution": {
          "iopub.execute_input": "2021-02-12T23:08:40.615714Z",
          "iopub.status.busy": "2021-02-12T23:08:40.614999Z",
          "iopub.status.idle": "2021-02-12T23:08:58.508575Z",
          "shell.execute_reply": "2021-02-12T23:08:58.509012Z"
        },
        "id": "wU5wv1KEh5c1",
        "colab": {
          "base_uri": "https://localhost:8080/"
        },
        "outputId": "dd20f8e7-8fd6-4f68-98a9-dbb17dced910"
      },
      "outputs": [
        {
          "output_type": "stream",
          "name": "stdout",
          "text": [
            "Epoch 1/5\n",
            "1875/1875 [==============================] - 6s 3ms/step - loss: 0.2941 - accuracy: 0.9157\n",
            "Epoch 2/5\n",
            "1875/1875 [==============================] - 5s 3ms/step - loss: 0.1432 - accuracy: 0.9572\n",
            "Epoch 3/5\n",
            "1875/1875 [==============================] - 5s 3ms/step - loss: 0.1058 - accuracy: 0.9680\n",
            "Epoch 4/5\n",
            "1875/1875 [==============================] - 5s 3ms/step - loss: 0.0879 - accuracy: 0.9725\n",
            "Epoch 5/5\n",
            "1875/1875 [==============================] - 5s 3ms/step - loss: 0.0761 - accuracy: 0.9768\n"
          ]
        }
      ],
      "source": [
        "history = model.fit(x_train, y_train, epochs=5)"
      ]
    },
    {
      "cell_type": "code",
      "source": [
        "#print('history:', history.history)\n",
        "plt.plot(history.history['accuracy'])\n",
        "plt.title('model accuracy')\n",
        "plt.ylabel('accuracy')\n",
        "plt.xlabel('epoch')\n",
        "plt.legend(['training data'], loc='upper right')\n",
        "plt.show()"
      ],
      "metadata": {
        "colab": {
          "base_uri": "https://localhost:8080/",
          "height": 295
        },
        "id": "3fSXTFwRBERO",
        "outputId": "94af6d32-1308-44cb-a118-b71049f8c85a"
      },
      "execution_count": 74,
      "outputs": [
        {
          "output_type": "display_data",
          "data": {
            "text/plain": [
              "<Figure size 432x288 with 1 Axes>"
            ],
            "image/png": "[encoded data removed]"
          },
          "metadata": {
            "needs_background": "light"
          }
        }
      ]
    },
    {
      "cell_type": "markdown",
      "metadata": {
        "id": "-KhBviERh5c4"
      },
      "source": [
        "##6. 学習済みモデルの評価\n",
        "\n",
        "`Model.evaluate` メソッドはモデルの性能を検査します。これには通常 \"[検証用データセット](https://developers.google.com/machine-learning/glossary#validation-set)\" または \"[テストデータセット](https://developers.google.com/machine-learning/glossary#test-set)\" を用います。"
      ]
    },
    {
      "cell_type": "code",
      "execution_count": 75,
      "metadata": {
        "execution": {
          "iopub.execute_input": "2021-02-12T23:08:58.513681Z",
          "iopub.status.busy": "2021-02-12T23:08:58.513028Z",
          "iopub.status.idle": "2021-02-12T23:08:59.080399Z",
          "shell.execute_reply": "2021-02-12T23:08:59.079776Z"
        },
        "id": "W8yoDmNlh5c4",
        "colab": {
          "base_uri": "https://localhost:8080/"
        },
        "outputId": "f59df7f2-1e12-4bf3-a078-49b88bf64630"
      },
      "outputs": [
        {
          "output_type": "stream",
          "name": "stdout",
          "text": [
            "313/313 - 1s - loss: 0.0794 - accuracy: 0.9758 - 532ms/epoch - 2ms/step\n"
          ]
        },
        {
          "output_type": "execute_result",
          "data": {
            "text/plain": [
              "[0.0793873518705368, 0.9757999777793884]"
            ]
          },
          "metadata": {},
          "execution_count": 75
        }
      ],
      "source": [
        "model.evaluate(x_test,  y_test, verbose=2)"
      ]
    },
    {
      "cell_type": "markdown",
      "metadata": {
        "id": "73uqbggUh5c6"
      },
      "source": [
        "この画像識別器はこのデータセットにおいておよそ 98% の正解率にまで訓練されました。更に学ぶためには [TensorFlow tutorials](https://www.tensorflow.org/tutorials/) を参照ください。"
      ]
    },
    {
      "cell_type": "markdown",
      "metadata": {
        "id": "pxcYhkhIh5c7"
      },
      "source": [
        "モデルが確率を返すようにしたい場合には、モデルをラップしてソフトマックス関数を適用してください。"
      ]
    },
    {
      "cell_type": "code",
      "execution_count": 76,
      "metadata": {
        "execution": {
          "iopub.execute_input": "2021-02-12T23:08:59.087739Z",
          "iopub.status.busy": "2021-02-12T23:08:59.086980Z",
          "iopub.status.idle": "2021-02-12T23:08:59.107363Z",
          "shell.execute_reply": "2021-02-12T23:08:59.106761Z"
        },
        "id": "draauA9hh5c7"
      },
      "outputs": [],
      "source": [
        "probability_model = tf.keras.Sequential([\n",
        "  model,\n",
        "  tf.keras.layers.Softmax()\n",
        "])"
      ]
    },
    {
      "cell_type": "code",
      "execution_count": 77,
      "metadata": {
        "execution": {
          "iopub.execute_input": "2021-02-12T23:08:59.112177Z",
          "iopub.status.busy": "2021-02-12T23:08:59.111446Z",
          "iopub.status.idle": "2021-02-12T23:08:59.117618Z",
          "shell.execute_reply": "2021-02-12T23:08:59.118077Z"
        },
        "id": "WcbO1miJh5c-",
        "colab": {
          "base_uri": "https://localhost:8080/"
        },
        "outputId": "272319dc-b7b7-4c49-e1aa-a83f1f0d22d5"
      },
      "outputs": [
        {
          "output_type": "execute_result",
          "data": {
            "text/plain": [
              "<tf.Tensor: shape=(5, 10), dtype=float32, numpy=\n",
              "array([[1.51402695e-08, 3.84528587e-09, 3.27943371e-06, 1.26572908e-04,\n",
              "        2.06467048e-12, 1.50315049e-08, 1.77867627e-12, 9.99867678e-01,\n",
              "        1.41708017e-06, 9.16421925e-07],\n",
              "       [3.22125304e-09, 5.92433162e-06, 9.99988556e-01, 4.58886598e-06,\n",
              "        1.13063056e-16, 6.26519579e-07, 1.49991153e-09, 5.38774246e-14,\n",
              "        3.08150760e-07, 1.00331429e-12],\n",
              "       [1.19973592e-07, 9.98558104e-01, 2.50147823e-05, 2.31570880e-06,\n",
              "        4.86521421e-05, 2.03608101e-06, 1.61609648e-06, 1.26985833e-03,\n",
              "        9.09515729e-05, 1.37837139e-06],\n",
              "       [9.99907851e-01, 1.00543076e-08, 6.01733018e-06, 1.51136987e-08,\n",
              "        2.39207566e-07, 1.09541858e-07, 1.42630752e-05, 6.55634212e-05,\n",
              "        3.55125862e-09, 5.98700353e-06],\n",
              "       [1.26183677e-05, 1.09532081e-08, 4.96457651e-05, 2.43405225e-07,\n",
              "        9.95315433e-01, 7.69420012e-07, 1.11549685e-04, 2.93517114e-05,\n",
              "        5.33108105e-05, 4.42704419e-03]], dtype=float32)>"
            ]
          },
          "metadata": {},
          "execution_count": 77
        }
      ],
      "source": [
        "probability_model(x_test[:5])"
      ]
    },
    {
      "cell_type": "markdown",
      "source": [
        "##7. 学習済みモデルの保存"
      ],
      "metadata": {
        "id": "7eWj8VASCwKM"
      }
    },
    {
      "cell_type": "code",
      "source": [
        "# save model\n",
        "!mkdir -p saved_model\n",
        "model.save('saved_model/mnist-model.h5')"
      ],
      "metadata": {
        "id": "e0uWqpW0Cwlx"
      },
      "execution_count": 78,
      "outputs": []
    }
  ],
  "metadata": {
    "colab": {
      "collapsed_sections": [],
      "name": "beginner01.ipynb",
      "toc_visible": true,
      "provenance": []
    },
    "kernelspec": {
      "display_name": "Python 3",
      "name": "python3"
    },
    "language_info": {
      "codemirror_mode": {
        "name": "ipython",
        "version": 3
      },
      "file_extension": ".py",
      "mimetype": "text/x-python",
      "name": "python",
      "nbconvert_exporter": "python",
      "pygments_lexer": "ipython3",
      "version": "3.6.9"
    }
  },
  "nbformat": 4,
  "nbformat_minor": 0
}